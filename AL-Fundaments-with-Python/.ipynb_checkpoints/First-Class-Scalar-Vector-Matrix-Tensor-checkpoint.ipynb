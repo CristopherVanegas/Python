{
 "cells": [
  {
   "cell_type": "code",
   "execution_count": 6,
   "id": "ddd8cd43",
   "metadata": {},
   "outputs": [],
   "source": [
    "# IN THIS FILE IT'S EXPLAINED THE USES FOR SCALAR, VECTOR, MATRIX AND TENSOR."
   ]
  },
  {
   "cell_type": "code",
   "execution_count": 7,
   "id": "029f3ef3",
   "metadata": {},
   "outputs": [],
   "source": [
    "import numpy as np"
   ]
  },
  {
   "cell_type": "code",
   "execution_count": 8,
   "id": "cfc8e90b",
   "metadata": {},
   "outputs": [],
   "source": [
    "#Exercise"
   ]
  },
  {
   "cell_type": "code",
   "execution_count": 9,
   "id": "4e996a88",
   "metadata": {},
   "outputs": [
    {
     "name": "stdout",
     "output_type": "stream",
     "text": [
      "[12  3  5  2]\n"
     ]
    }
   ],
   "source": [
    "vector=np.array([12, 3, 5, 2])\n",
    "print(vector)"
   ]
  },
  {
   "cell_type": "code",
   "execution_count": 10,
   "id": "e6d2d431",
   "metadata": {},
   "outputs": [
    {
     "name": "stdout",
     "output_type": "stream",
     "text": [
      "[[3 5 5]\n",
      " [7 9 0]\n",
      " [2 3 5]]\n"
     ]
    }
   ],
   "source": [
    "matrix=np.array([\n",
    "    [3, 5, 5],\n",
    "    [7, 9, 0],\n",
    "    [2, 3, 5]\n",
    "])\n",
    "\n",
    "print(matrix)"
   ]
  },
  {
   "cell_type": "code",
   "execution_count": 11,
   "id": "341efad9",
   "metadata": {},
   "outputs": [
    {
     "name": "stdout",
     "output_type": "stream",
     "text": [
      "[[[2 0 1]\n",
      "  [2 0 1]\n",
      "  [2 0 1]]\n",
      "\n",
      " [[3 0 3]\n",
      "  [3 0 3]\n",
      "  [3 0 3]]\n",
      "\n",
      " [[3 0 3]\n",
      "  [3 0 3]\n",
      "  [3 0 3]]]\n"
     ]
    }
   ],
   "source": [
    "tensor=np.array([\n",
    "    [\n",
    "        [0, 0, 0],\n",
    "        [0, 0, 0],\n",
    "        [0, 0, 0]\n",
    "    ],\n",
    "    [\n",
    "        [255, 255, 255],\n",
    "        [255, 255, 255],\n",
    "        [255, 255, 255]\n",
    "    ],\n",
    "    [\n",
    "        [3, 0, 3],\n",
    "        [3, 0, 3],\n",
    "        [3, 0, 3]\n",
    "    ]\n",
    "])\n",
    "\n",
    "print(tensor)"
   ]
  },
  {
   "cell_type": "code",
   "execution_count": 12,
   "id": "8a283597",
   "metadata": {},
   "outputs": [],
   "source": [
    "# GRAPH WITH MATPLOTLIB\n",
    "%matplotlib inline\n",
    "\n",
    "import matplotlib.pyplot as plt"
   ]
  },
  {
   "cell_type": "code",
   "execution_count": 13,
   "id": "9ae71366",
   "metadata": {},
   "outputs": [
    {
     "data": {
      "image/png": "[encoded data removed]",
      "text/plain": [
       "<Figure size 432x288 with 1 Axes>"
      ]
     },
     "metadata": {
      "needs_background": "light"
     },
     "output_type": "display_data"
    }
   ],
   "source": [
    "plt.imshow(\n",
    "    tensor,\n",
    "    interpolation='nearest'\n",
    ")\n",
    "plt.show()"
   ]
  },
  {
   "cell_type": "code",
   "execution_count": null,
   "id": "93a68a45",
   "metadata": {},
   "outputs": [],
   "source": []
  }
 ],
 "metadata": {
  "kernelspec": {
   "display_name": "Python 3 (ipykernel)",
   "language": "python",
   "name": "python3"
  },
  "language_info": {
   "codemirror_mode": {
    "name": "ipython",
    "version": 3
   },
   "file_extension": ".py",
   "mimetype": "text/x-python",
   "name": "python",
   "nbconvert_exporter": "python",
   "pygments_lexer": "ipython3",
   "version": "3.7.13"
  }
 },
 "nbformat": 4,
 "nbformat_minor": 5
}
