{
 "cells": [
  {
   "cell_type": "code",
   "execution_count": 6,
   "id": "ddd8cd43",
   "metadata": {},
   "outputs": [],
   "source": [
    "# IN THIS FILE IT'S EXPLAINED THE USES FOR SCALAR, VECTOR, MATRIX AND TENSOR."
   ]
  },
  {
   "cell_type": "code",
   "execution_count": null,
   "id": "e6ac814b",
   "metadata": {},
   "outputs": [],
   "source": [
    "# For this practice we need to use numpy as np to save time ;)\n",
    "import numpy as np"
   ]
  },
  {
   "cell_type": "code",
   "execution_count": 2,
   "id": "029f3ef3",
   "metadata": {},
   "outputs": [],
   "source": [
    "#Exercise 1 - Create a vector as a list and using numpy, watc the difference\n",
    "vector=np.array([12, 3, 5, 2])\n",
    "print(vector)"
   ]
  },
  {
   "cell_type": "code",
   "execution_count": 10,
   "id": "e6d2d431",
   "metadata": {},
   "outputs": [
    {
     "name": "stdout",
     "output_type": "stream",
     "text": [
      "[[3 5 5]\n",
      " [7 9 0]\n",
      " [2 3 5]]\n"
     ]
    }
   ],
   "source": [
    "matrix=np.array([\n",
    "    [3, 5, 5],\n",
    "    [7, 9, 0],\n",
    "    [2, 3, 5]\n",
    "])\n",
    "print(matrix)"
   ]
  },
  {
   "cell_type": "code",
   "execution_count": 37,
   "id": "341efad9",
   "metadata": {},
   "outputs": [
    {
     "name": "stdout",
     "output_type": "stream",
     "text": [
      "[[[  0   0   0]\n",
      "  [  0   0   0]\n",
      "  [  0   0   0]]\n",
      "\n",
      " [[255 255 255]\n",
      "  [255 255 255]\n",
      "  [255 255 255]]\n",
      "\n",
      " [[  0 255 255]\n",
      "  [  0 255 255]\n",
      "  [  0 255 255]]]\n"
     ]
    }
   ],
   "source": [
    "tensor=np.array([\n",
    "    [\n",
    "        # BLACK COLOR\n",
    "        [0, 0, 0],\n",
    "        [0, 0, 0],\n",
    "        [0, 0, 0]\n",
    "    ],\n",
    "    [\n",
    "        # WHITE COLOR\n",
    "        [255, 255, 255],\n",
    "        [255, 255, 255],\n",
    "        [255, 255, 255]\n",
    "    ],\n",
    "    [\n",
    "        # CYAN COLOR\n",
    "        [0, 255, 255],\n",
    "        [0, 255, 255],\n",
    "        [0, 255, 255]\n",
    "    ]\n",
    "])\n",
    "\n",
    "print(tensor)"
   ]
  },
  {
   "cell_type": "code",
   "execution_count": 38,
   "id": "8a283597",
   "metadata": {},
   "outputs": [],
   "source": [
    "# GRAPH WITH MATPLOTLIB\n",
    "%matplotlib inline\n",
    "\n",
    "import matplotlib.pyplot as plt"
   ]
  },
  {
   "cell_type": "code",
   "execution_count": 39,
   "id": "9ae71366",
   "metadata": {},
   "outputs": [
    {
     "data": {
      "image/png": "[encoded data removed]",
      "text/plain": [
       "<Figure size 432x288 with 1 Axes>"
      ]
     },
     "metadata": {
      "needs_background": "light"
     },
     "output_type": "display_data"
    }
   ],
   "source": [
    "plt.imshow(\n",
    "    tensor,\n",
    "    interpolation='nearest'\n",
    ")\n",
    "plt.show()"
   ]
  },
  {
   "cell_type": "code",
   "execution_count": null,
   "id": "93a68a45",
   "metadata": {},
   "outputs": [],
   "source": []
  }
 ],
 "metadata": {
  "kernelspec": {
   "display_name": "Python 3.10.2 64-bit",
   "language": "python",
   "name": "python3"
  },
  "language_info": {
   "codemirror_mode": {
    "name": "ipython",
    "version": 3
   },
   "file_extension": ".py",
   "mimetype": "text/x-python",
   "name": "python",
   "nbconvert_exporter": "python",
   "pygments_lexer": "ipython3",
   "version": "3.10.2"
  },
  "vscode": {
   "interpreter": {
    "hash": "aee8b7b246df8f9039afb4144a1f6fd8d2ca17a180786b69acc140d282b71a49"
   }
  }
 },
 "nbformat": 4,
 "nbformat_minor": 5
}
